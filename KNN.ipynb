{
 "cells": [
  {
   "cell_type": "code",
   "execution_count": 1,
   "metadata": {},
   "outputs": [],
   "source": [
    "import pandas as pd\n",
    "import numpy as np\n",
    "import matplotlib.pyplot as plt"
   ]
  },
  {
   "cell_type": "code",
   "execution_count": 2,
   "metadata": {},
   "outputs": [
    {
     "data": {
      "text/html": [
       "<div>\n",
       "<style scoped>\n",
       "    .dataframe tbody tr th:only-of-type {\n",
       "        vertical-align: middle;\n",
       "    }\n",
       "\n",
       "    .dataframe tbody tr th {\n",
       "        vertical-align: top;\n",
       "    }\n",
       "\n",
       "    .dataframe thead th {\n",
       "        text-align: right;\n",
       "    }\n",
       "</style>\n",
       "<table border=\"1\" class=\"dataframe\">\n",
       "  <thead>\n",
       "    <tr style=\"text-align: right;\">\n",
       "      <th></th>\n",
       "      <th>User ID</th>\n",
       "      <th>Gender</th>\n",
       "      <th>Age</th>\n",
       "      <th>EstimatedSalary</th>\n",
       "      <th>Purchased</th>\n",
       "    </tr>\n",
       "  </thead>\n",
       "  <tbody>\n",
       "    <tr>\n",
       "      <th>0</th>\n",
       "      <td>15624510</td>\n",
       "      <td>Male</td>\n",
       "      <td>19</td>\n",
       "      <td>19000</td>\n",
       "      <td>0</td>\n",
       "    </tr>\n",
       "    <tr>\n",
       "      <th>1</th>\n",
       "      <td>15810944</td>\n",
       "      <td>Male</td>\n",
       "      <td>35</td>\n",
       "      <td>20000</td>\n",
       "      <td>0</td>\n",
       "    </tr>\n",
       "    <tr>\n",
       "      <th>2</th>\n",
       "      <td>15668575</td>\n",
       "      <td>Female</td>\n",
       "      <td>26</td>\n",
       "      <td>43000</td>\n",
       "      <td>0</td>\n",
       "    </tr>\n",
       "    <tr>\n",
       "      <th>3</th>\n",
       "      <td>15603246</td>\n",
       "      <td>Female</td>\n",
       "      <td>27</td>\n",
       "      <td>57000</td>\n",
       "      <td>0</td>\n",
       "    </tr>\n",
       "    <tr>\n",
       "      <th>4</th>\n",
       "      <td>15804002</td>\n",
       "      <td>Male</td>\n",
       "      <td>19</td>\n",
       "      <td>76000</td>\n",
       "      <td>0</td>\n",
       "    </tr>\n",
       "    <tr>\n",
       "      <th>...</th>\n",
       "      <td>...</td>\n",
       "      <td>...</td>\n",
       "      <td>...</td>\n",
       "      <td>...</td>\n",
       "      <td>...</td>\n",
       "    </tr>\n",
       "    <tr>\n",
       "      <th>395</th>\n",
       "      <td>15691863</td>\n",
       "      <td>Female</td>\n",
       "      <td>46</td>\n",
       "      <td>41000</td>\n",
       "      <td>1</td>\n",
       "    </tr>\n",
       "    <tr>\n",
       "      <th>396</th>\n",
       "      <td>15706071</td>\n",
       "      <td>Male</td>\n",
       "      <td>51</td>\n",
       "      <td>23000</td>\n",
       "      <td>1</td>\n",
       "    </tr>\n",
       "    <tr>\n",
       "      <th>397</th>\n",
       "      <td>15654296</td>\n",
       "      <td>Female</td>\n",
       "      <td>50</td>\n",
       "      <td>20000</td>\n",
       "      <td>1</td>\n",
       "    </tr>\n",
       "    <tr>\n",
       "      <th>398</th>\n",
       "      <td>15755018</td>\n",
       "      <td>Male</td>\n",
       "      <td>36</td>\n",
       "      <td>33000</td>\n",
       "      <td>0</td>\n",
       "    </tr>\n",
       "    <tr>\n",
       "      <th>399</th>\n",
       "      <td>15594041</td>\n",
       "      <td>Female</td>\n",
       "      <td>49</td>\n",
       "      <td>36000</td>\n",
       "      <td>1</td>\n",
       "    </tr>\n",
       "  </tbody>\n",
       "</table>\n",
       "<p>400 rows × 5 columns</p>\n",
       "</div>"
      ],
      "text/plain": [
       "      User ID  Gender  Age  EstimatedSalary  Purchased\n",
       "0    15624510    Male   19            19000          0\n",
       "1    15810944    Male   35            20000          0\n",
       "2    15668575  Female   26            43000          0\n",
       "3    15603246  Female   27            57000          0\n",
       "4    15804002    Male   19            76000          0\n",
       "..        ...     ...  ...              ...        ...\n",
       "395  15691863  Female   46            41000          1\n",
       "396  15706071    Male   51            23000          1\n",
       "397  15654296  Female   50            20000          1\n",
       "398  15755018    Male   36            33000          0\n",
       "399  15594041  Female   49            36000          1\n",
       "\n",
       "[400 rows x 5 columns]"
      ]
     },
     "execution_count": 2,
     "metadata": {},
     "output_type": "execute_result"
    }
   ],
   "source": [
    "dataset=pd.read_csv('Social_Network_Ads.csv')\n",
    "dataset"
   ]
  },
  {
   "cell_type": "code",
   "execution_count": 3,
   "metadata": {},
   "outputs": [
    {
     "data": {
      "text/plain": [
       "pandas.core.frame.DataFrame"
      ]
     },
     "execution_count": 3,
     "metadata": {},
     "output_type": "execute_result"
    }
   ],
   "source": [
    "type(dataset)"
   ]
  },
  {
   "cell_type": "code",
   "execution_count": 4,
   "metadata": {},
   "outputs": [
    {
     "data": {
      "text/html": [
       "<div>\n",
       "<style scoped>\n",
       "    .dataframe tbody tr th:only-of-type {\n",
       "        vertical-align: middle;\n",
       "    }\n",
       "\n",
       "    .dataframe tbody tr th {\n",
       "        vertical-align: top;\n",
       "    }\n",
       "\n",
       "    .dataframe thead th {\n",
       "        text-align: right;\n",
       "    }\n",
       "</style>\n",
       "<table border=\"1\" class=\"dataframe\">\n",
       "  <thead>\n",
       "    <tr style=\"text-align: right;\">\n",
       "      <th></th>\n",
       "      <th>User ID</th>\n",
       "      <th>Age</th>\n",
       "      <th>EstimatedSalary</th>\n",
       "      <th>Purchased</th>\n",
       "    </tr>\n",
       "  </thead>\n",
       "  <tbody>\n",
       "    <tr>\n",
       "      <th>count</th>\n",
       "      <td>4.000000e+02</td>\n",
       "      <td>400.000000</td>\n",
       "      <td>400.000000</td>\n",
       "      <td>400.000000</td>\n",
       "    </tr>\n",
       "    <tr>\n",
       "      <th>mean</th>\n",
       "      <td>1.569154e+07</td>\n",
       "      <td>37.655000</td>\n",
       "      <td>69742.500000</td>\n",
       "      <td>0.357500</td>\n",
       "    </tr>\n",
       "    <tr>\n",
       "      <th>std</th>\n",
       "      <td>7.165832e+04</td>\n",
       "      <td>10.482877</td>\n",
       "      <td>34096.960282</td>\n",
       "      <td>0.479864</td>\n",
       "    </tr>\n",
       "    <tr>\n",
       "      <th>min</th>\n",
       "      <td>1.556669e+07</td>\n",
       "      <td>18.000000</td>\n",
       "      <td>15000.000000</td>\n",
       "      <td>0.000000</td>\n",
       "    </tr>\n",
       "    <tr>\n",
       "      <th>25%</th>\n",
       "      <td>1.562676e+07</td>\n",
       "      <td>29.750000</td>\n",
       "      <td>43000.000000</td>\n",
       "      <td>0.000000</td>\n",
       "    </tr>\n",
       "    <tr>\n",
       "      <th>50%</th>\n",
       "      <td>1.569434e+07</td>\n",
       "      <td>37.000000</td>\n",
       "      <td>70000.000000</td>\n",
       "      <td>0.000000</td>\n",
       "    </tr>\n",
       "    <tr>\n",
       "      <th>75%</th>\n",
       "      <td>1.575036e+07</td>\n",
       "      <td>46.000000</td>\n",
       "      <td>88000.000000</td>\n",
       "      <td>1.000000</td>\n",
       "    </tr>\n",
       "    <tr>\n",
       "      <th>max</th>\n",
       "      <td>1.581524e+07</td>\n",
       "      <td>60.000000</td>\n",
       "      <td>150000.000000</td>\n",
       "      <td>1.000000</td>\n",
       "    </tr>\n",
       "  </tbody>\n",
       "</table>\n",
       "</div>"
      ],
      "text/plain": [
       "            User ID         Age  EstimatedSalary   Purchased\n",
       "count  4.000000e+02  400.000000       400.000000  400.000000\n",
       "mean   1.569154e+07   37.655000     69742.500000    0.357500\n",
       "std    7.165832e+04   10.482877     34096.960282    0.479864\n",
       "min    1.556669e+07   18.000000     15000.000000    0.000000\n",
       "25%    1.562676e+07   29.750000     43000.000000    0.000000\n",
       "50%    1.569434e+07   37.000000     70000.000000    0.000000\n",
       "75%    1.575036e+07   46.000000     88000.000000    1.000000\n",
       "max    1.581524e+07   60.000000    150000.000000    1.000000"
      ]
     },
     "execution_count": 4,
     "metadata": {},
     "output_type": "execute_result"
    }
   ],
   "source": [
    "dataset.describe()"
   ]
  },
  {
   "cell_type": "code",
   "execution_count": 5,
   "metadata": {},
   "outputs": [],
   "source": [
    "cols=['User ID']\n",
    "dataset=dataset.drop(cols,axis=1)"
   ]
  },
  {
   "cell_type": "code",
   "execution_count": 6,
   "metadata": {},
   "outputs": [
    {
     "data": {
      "text/html": [
       "<div>\n",
       "<style scoped>\n",
       "    .dataframe tbody tr th:only-of-type {\n",
       "        vertical-align: middle;\n",
       "    }\n",
       "\n",
       "    .dataframe tbody tr th {\n",
       "        vertical-align: top;\n",
       "    }\n",
       "\n",
       "    .dataframe thead th {\n",
       "        text-align: right;\n",
       "    }\n",
       "</style>\n",
       "<table border=\"1\" class=\"dataframe\">\n",
       "  <thead>\n",
       "    <tr style=\"text-align: right;\">\n",
       "      <th></th>\n",
       "      <th>Gender</th>\n",
       "      <th>Age</th>\n",
       "      <th>EstimatedSalary</th>\n",
       "      <th>Purchased</th>\n",
       "    </tr>\n",
       "  </thead>\n",
       "  <tbody>\n",
       "    <tr>\n",
       "      <th>0</th>\n",
       "      <td>Male</td>\n",
       "      <td>19</td>\n",
       "      <td>19000</td>\n",
       "      <td>0</td>\n",
       "    </tr>\n",
       "    <tr>\n",
       "      <th>1</th>\n",
       "      <td>Male</td>\n",
       "      <td>35</td>\n",
       "      <td>20000</td>\n",
       "      <td>0</td>\n",
       "    </tr>\n",
       "    <tr>\n",
       "      <th>2</th>\n",
       "      <td>Female</td>\n",
       "      <td>26</td>\n",
       "      <td>43000</td>\n",
       "      <td>0</td>\n",
       "    </tr>\n",
       "    <tr>\n",
       "      <th>3</th>\n",
       "      <td>Female</td>\n",
       "      <td>27</td>\n",
       "      <td>57000</td>\n",
       "      <td>0</td>\n",
       "    </tr>\n",
       "    <tr>\n",
       "      <th>4</th>\n",
       "      <td>Male</td>\n",
       "      <td>19</td>\n",
       "      <td>76000</td>\n",
       "      <td>0</td>\n",
       "    </tr>\n",
       "    <tr>\n",
       "      <th>...</th>\n",
       "      <td>...</td>\n",
       "      <td>...</td>\n",
       "      <td>...</td>\n",
       "      <td>...</td>\n",
       "    </tr>\n",
       "    <tr>\n",
       "      <th>395</th>\n",
       "      <td>Female</td>\n",
       "      <td>46</td>\n",
       "      <td>41000</td>\n",
       "      <td>1</td>\n",
       "    </tr>\n",
       "    <tr>\n",
       "      <th>396</th>\n",
       "      <td>Male</td>\n",
       "      <td>51</td>\n",
       "      <td>23000</td>\n",
       "      <td>1</td>\n",
       "    </tr>\n",
       "    <tr>\n",
       "      <th>397</th>\n",
       "      <td>Female</td>\n",
       "      <td>50</td>\n",
       "      <td>20000</td>\n",
       "      <td>1</td>\n",
       "    </tr>\n",
       "    <tr>\n",
       "      <th>398</th>\n",
       "      <td>Male</td>\n",
       "      <td>36</td>\n",
       "      <td>33000</td>\n",
       "      <td>0</td>\n",
       "    </tr>\n",
       "    <tr>\n",
       "      <th>399</th>\n",
       "      <td>Female</td>\n",
       "      <td>49</td>\n",
       "      <td>36000</td>\n",
       "      <td>1</td>\n",
       "    </tr>\n",
       "  </tbody>\n",
       "</table>\n",
       "<p>400 rows × 4 columns</p>\n",
       "</div>"
      ],
      "text/plain": [
       "     Gender  Age  EstimatedSalary  Purchased\n",
       "0      Male   19            19000          0\n",
       "1      Male   35            20000          0\n",
       "2    Female   26            43000          0\n",
       "3    Female   27            57000          0\n",
       "4      Male   19            76000          0\n",
       "..      ...  ...              ...        ...\n",
       "395  Female   46            41000          1\n",
       "396    Male   51            23000          1\n",
       "397  Female   50            20000          1\n",
       "398    Male   36            33000          0\n",
       "399  Female   49            36000          1\n",
       "\n",
       "[400 rows x 4 columns]"
      ]
     },
     "execution_count": 6,
     "metadata": {},
     "output_type": "execute_result"
    }
   ],
   "source": [
    "dataset"
   ]
  },
  {
   "cell_type": "code",
   "execution_count": 7,
   "metadata": {},
   "outputs": [
    {
     "data": {
      "text/plain": [
       "array([['Male', 19, 19000],\n",
       "       ['Male', 35, 20000],\n",
       "       ['Female', 26, 43000],\n",
       "       ...,\n",
       "       ['Female', 50, 20000],\n",
       "       ['Male', 36, 33000],\n",
       "       ['Female', 49, 36000]], dtype=object)"
      ]
     },
     "execution_count": 7,
     "metadata": {},
     "output_type": "execute_result"
    }
   ],
   "source": [
    "x=dataset.iloc[:,0:3].values\n",
    "x"
   ]
  },
  {
   "cell_type": "code",
   "execution_count": 8,
   "metadata": {},
   "outputs": [],
   "source": [
    "y=dataset.iloc[:,-1].values"
   ]
  },
  {
   "cell_type": "code",
   "execution_count": 9,
   "metadata": {},
   "outputs": [
    {
     "data": {
      "text/plain": [
       "array([0, 0, 0, 0, 0, 0, 0, 1, 0, 0, 0, 0, 0, 0, 0, 0, 1, 1, 1, 1, 1, 1,\n",
       "       1, 1, 1, 1, 1, 1, 0, 0, 0, 1, 0, 0, 0, 0, 0, 0, 0, 0, 0, 0, 0, 0,\n",
       "       0, 0, 0, 0, 1, 0, 0, 0, 0, 0, 0, 0, 0, 0, 0, 0, 0, 0, 0, 1, 0, 0,\n",
       "       0, 0, 0, 0, 0, 0, 0, 0, 0, 1, 0, 0, 0, 0, 0, 0, 0, 0, 0, 1, 0, 0,\n",
       "       0, 0, 0, 0, 0, 0, 0, 0, 0, 1, 0, 0, 0, 0, 0, 1, 0, 0, 0, 0, 0, 0,\n",
       "       0, 0, 0, 0, 0, 0, 0, 0, 0, 0, 0, 0, 0, 0, 0, 0, 0, 0, 0, 0, 0, 0,\n",
       "       0, 0, 0, 0, 0, 1, 0, 0, 0, 0, 0, 0, 0, 0, 1, 0, 0, 0, 0, 0, 0, 0,\n",
       "       0, 0, 0, 0, 0, 1, 1, 0, 0, 0, 0, 0, 0, 0, 1, 0, 0, 0, 0, 0, 0, 0,\n",
       "       0, 0, 0, 0, 0, 0, 1, 0, 0, 0, 0, 0, 0, 0, 0, 0, 0, 0, 0, 0, 0, 0,\n",
       "       0, 0, 0, 0, 1, 0, 1, 0, 1, 0, 1, 0, 1, 1, 0, 0, 0, 1, 0, 0, 0, 1,\n",
       "       0, 1, 1, 1, 0, 0, 1, 1, 0, 1, 1, 0, 1, 1, 0, 1, 0, 0, 0, 1, 1, 0,\n",
       "       1, 1, 0, 1, 0, 1, 0, 1, 0, 0, 1, 1, 0, 1, 0, 0, 1, 1, 0, 1, 1, 0,\n",
       "       1, 1, 0, 0, 1, 0, 0, 1, 1, 1, 1, 1, 0, 1, 1, 1, 1, 0, 1, 1, 0, 1,\n",
       "       0, 1, 0, 1, 1, 1, 1, 0, 0, 0, 1, 1, 0, 1, 1, 1, 1, 1, 0, 0, 0, 1,\n",
       "       1, 0, 0, 1, 0, 1, 0, 1, 1, 0, 1, 0, 1, 1, 0, 1, 1, 0, 0, 0, 1, 1,\n",
       "       0, 1, 0, 0, 1, 0, 1, 0, 0, 1, 1, 0, 0, 1, 1, 0, 1, 1, 0, 0, 1, 0,\n",
       "       1, 0, 1, 1, 1, 0, 1, 0, 1, 1, 1, 0, 1, 1, 1, 1, 0, 1, 1, 1, 0, 1,\n",
       "       0, 1, 0, 0, 1, 1, 0, 1, 1, 1, 1, 1, 1, 0, 1, 1, 1, 1, 1, 1, 0, 1,\n",
       "       1, 1, 0, 1], dtype=int64)"
      ]
     },
     "execution_count": 9,
     "metadata": {},
     "output_type": "execute_result"
    }
   ],
   "source": [
    "y"
   ]
  },
  {
   "cell_type": "code",
   "execution_count": 10,
   "metadata": {},
   "outputs": [],
   "source": [
    "from sklearn.preprocessing import LabelEncoder\n",
    "lb=LabelEncoder()"
   ]
  },
  {
   "cell_type": "code",
   "execution_count": 11,
   "metadata": {},
   "outputs": [
    {
     "data": {
      "text/plain": [
       "array([[1, 19, 19000],\n",
       "       [1, 35, 20000],\n",
       "       [0, 26, 43000],\n",
       "       ...,\n",
       "       [0, 50, 20000],\n",
       "       [1, 36, 33000],\n",
       "       [0, 49, 36000]], dtype=object)"
      ]
     },
     "execution_count": 11,
     "metadata": {},
     "output_type": "execute_result"
    }
   ],
   "source": [
    "x[:,0]=lb.fit_transform(x[:,0])\n",
    "x"
   ]
  },
  {
   "cell_type": "code",
   "execution_count": 12,
   "metadata": {},
   "outputs": [],
   "source": [
    "from sklearn.model_selection import train_test_split\n",
    "x_train,x_test,y_train,y_test=train_test_split(x,y,test_size=0.2,random_state=0)"
   ]
  },
  {
   "cell_type": "code",
   "execution_count": 13,
   "metadata": {},
   "outputs": [
    {
     "data": {
      "text/plain": [
       "array([[1, 58, 144000],\n",
       "       [0, 59, 83000],\n",
       "       [0, 24, 55000],\n",
       "       [0, 26, 35000],\n",
       "       [0, 58, 38000],\n",
       "       [0, 42, 80000],\n",
       "       [0, 40, 75000],\n",
       "       [1, 59, 130000],\n",
       "       [0, 46, 41000],\n",
       "       [0, 41, 60000],\n",
       "       [1, 42, 64000],\n",
       "       [0, 37, 146000],\n",
       "       [0, 23, 48000],\n",
       "       [1, 25, 33000],\n",
       "       [1, 24, 84000],\n",
       "       [0, 27, 96000],\n",
       "       [1, 23, 63000],\n",
       "       [1, 48, 33000],\n",
       "       [1, 48, 90000],\n",
       "       [1, 42, 104000],\n",
       "       [0, 44, 39000],\n",
       "       [1, 32, 120000],\n",
       "       [0, 38, 50000],\n",
       "       [0, 32, 135000],\n",
       "       [0, 52, 21000],\n",
       "       [0, 53, 104000],\n",
       "       [1, 39, 42000],\n",
       "       [1, 38, 61000],\n",
       "       [0, 36, 50000],\n",
       "       [0, 36, 63000],\n",
       "       [0, 35, 25000],\n",
       "       [1, 35, 50000],\n",
       "       [1, 42, 73000],\n",
       "       [0, 47, 49000],\n",
       "       [0, 59, 29000],\n",
       "       [1, 49, 65000],\n",
       "       [0, 45, 131000],\n",
       "       [0, 31, 89000],\n",
       "       [0, 46, 82000],\n",
       "       [0, 47, 51000],\n",
       "       [1, 26, 15000],\n",
       "       [1, 60, 102000],\n",
       "       [0, 38, 112000],\n",
       "       [1, 40, 107000],\n",
       "       [0, 42, 53000],\n",
       "       [1, 35, 59000],\n",
       "       [1, 48, 41000],\n",
       "       [0, 48, 134000],\n",
       "       [0, 38, 113000],\n",
       "       [1, 29, 148000],\n",
       "       [0, 26, 15000],\n",
       "       [1, 60, 42000],\n",
       "       [1, 24, 19000],\n",
       "       [1, 42, 149000],\n",
       "       [0, 46, 96000],\n",
       "       [1, 28, 59000],\n",
       "       [1, 39, 96000],\n",
       "       [1, 28, 89000],\n",
       "       [1, 41, 72000],\n",
       "       [1, 45, 26000],\n",
       "       [0, 33, 69000],\n",
       "       [0, 20, 82000],\n",
       "       [1, 31, 74000],\n",
       "       [1, 42, 80000],\n",
       "       [0, 35, 72000],\n",
       "       [0, 33, 149000],\n",
       "       [1, 40, 71000],\n",
       "       [0, 51, 146000],\n",
       "       [1, 46, 79000],\n",
       "       [1, 35, 75000],\n",
       "       [1, 38, 51000],\n",
       "       [0, 36, 75000],\n",
       "       [0, 37, 78000],\n",
       "       [1, 38, 61000],\n",
       "       [0, 60, 108000],\n",
       "       [0, 20, 82000],\n",
       "       [1, 57, 74000],\n",
       "       [1, 42, 65000],\n",
       "       [1, 26, 80000],\n",
       "       [1, 46, 117000],\n",
       "       [1, 35, 61000],\n",
       "       [0, 21, 68000],\n",
       "       [0, 28, 44000],\n",
       "       [1, 41, 87000],\n",
       "       [0, 37, 33000],\n",
       "       [1, 27, 90000],\n",
       "       [1, 39, 42000],\n",
       "       [1, 28, 123000],\n",
       "       [0, 31, 118000],\n",
       "       [1, 25, 87000],\n",
       "       [0, 35, 71000],\n",
       "       [1, 37, 70000],\n",
       "       [1, 35, 39000],\n",
       "       [1, 47, 23000],\n",
       "       [0, 35, 147000],\n",
       "       [0, 48, 138000],\n",
       "       [1, 26, 86000],\n",
       "       [1, 25, 79000],\n",
       "       [0, 52, 138000],\n",
       "       [1, 51, 23000],\n",
       "       [0, 35, 60000],\n",
       "       [0, 33, 113000],\n",
       "       [1, 30, 107000],\n",
       "       [1, 48, 33000],\n",
       "       [0, 41, 80000],\n",
       "       [0, 48, 96000],\n",
       "       [1, 31, 18000],\n",
       "       [0, 31, 71000],\n",
       "       [1, 43, 129000],\n",
       "       [0, 59, 76000],\n",
       "       [0, 18, 44000],\n",
       "       [1, 36, 118000],\n",
       "       [0, 42, 90000],\n",
       "       [0, 47, 30000],\n",
       "       [0, 26, 43000],\n",
       "       [1, 40, 78000],\n",
       "       [1, 46, 59000],\n",
       "       [0, 59, 42000],\n",
       "       [0, 46, 74000],\n",
       "       [1, 35, 91000],\n",
       "       [0, 28, 59000],\n",
       "       [1, 40, 57000],\n",
       "       [1, 59, 143000],\n",
       "       [0, 57, 26000],\n",
       "       [0, 52, 38000],\n",
       "       [0, 47, 113000],\n",
       "       [0, 53, 143000],\n",
       "       [1, 35, 27000],\n",
       "       [0, 58, 101000],\n",
       "       [0, 45, 45000],\n",
       "       [0, 23, 82000],\n",
       "       [1, 46, 23000],\n",
       "       [1, 42, 65000],\n",
       "       [0, 28, 84000],\n",
       "       [1, 38, 59000],\n",
       "       [0, 26, 84000],\n",
       "       [0, 29, 28000],\n",
       "       [0, 37, 71000],\n",
       "       [0, 22, 55000],\n",
       "       [0, 48, 35000],\n",
       "       [1, 49, 28000],\n",
       "       [0, 38, 65000],\n",
       "       [0, 27, 17000],\n",
       "       [1, 46, 28000],\n",
       "       [1, 48, 141000],\n",
       "       [0, 26, 17000],\n",
       "       [0, 35, 97000],\n",
       "       [0, 39, 59000],\n",
       "       [0, 24, 27000],\n",
       "       [1, 32, 18000],\n",
       "       [1, 46, 88000],\n",
       "       [1, 35, 58000],\n",
       "       [1, 56, 60000],\n",
       "       [1, 47, 34000],\n",
       "       [0, 40, 72000],\n",
       "       [1, 32, 100000],\n",
       "       [0, 19, 21000],\n",
       "       [1, 25, 90000],\n",
       "       [1, 35, 88000],\n",
       "       [1, 28, 32000],\n",
       "       [0, 50, 20000],\n",
       "       [1, 40, 59000],\n",
       "       [0, 50, 44000],\n",
       "       [1, 35, 72000],\n",
       "       [0, 40, 142000],\n",
       "       [0, 46, 32000],\n",
       "       [0, 39, 71000],\n",
       "       [1, 20, 74000],\n",
       "       [1, 29, 75000],\n",
       "       [1, 31, 76000],\n",
       "       [1, 47, 25000],\n",
       "       [1, 40, 61000],\n",
       "       [1, 34, 112000],\n",
       "       [0, 38, 80000],\n",
       "       [0, 42, 75000],\n",
       "       [0, 47, 47000],\n",
       "       [0, 39, 75000],\n",
       "       [1, 19, 25000],\n",
       "       [0, 37, 80000],\n",
       "       [1, 36, 60000],\n",
       "       [1, 41, 52000],\n",
       "       [1, 36, 125000],\n",
       "       [0, 48, 29000],\n",
       "       [0, 36, 126000],\n",
       "       [0, 51, 134000],\n",
       "       [0, 27, 57000],\n",
       "       [1, 38, 71000],\n",
       "       [0, 39, 61000],\n",
       "       [0, 22, 27000],\n",
       "       [0, 33, 60000],\n",
       "       [1, 48, 74000],\n",
       "       [0, 58, 23000],\n",
       "       [1, 53, 72000],\n",
       "       [0, 32, 117000],\n",
       "       [1, 54, 70000],\n",
       "       [1, 30, 80000],\n",
       "       [0, 58, 95000],\n",
       "       [0, 26, 52000],\n",
       "       [1, 45, 79000],\n",
       "       [1, 24, 55000],\n",
       "       [1, 40, 75000],\n",
       "       [0, 33, 28000],\n",
       "       [0, 44, 139000],\n",
       "       [1, 22, 18000],\n",
       "       [0, 33, 51000],\n",
       "       [0, 43, 133000],\n",
       "       [0, 24, 32000],\n",
       "       [0, 46, 22000],\n",
       "       [1, 35, 55000],\n",
       "       [0, 54, 104000],\n",
       "       [0, 48, 119000],\n",
       "       [1, 35, 53000],\n",
       "       [1, 37, 144000],\n",
       "       [0, 23, 66000],\n",
       "       [0, 37, 137000],\n",
       "       [1, 31, 58000],\n",
       "       [0, 33, 41000],\n",
       "       [0, 45, 22000],\n",
       "       [1, 30, 15000],\n",
       "       [1, 19, 19000],\n",
       "       [1, 49, 74000],\n",
       "       [1, 39, 122000],\n",
       "       [1, 35, 73000],\n",
       "       [1, 39, 71000],\n",
       "       [1, 24, 23000],\n",
       "       [0, 41, 72000],\n",
       "       [0, 29, 83000],\n",
       "       [0, 54, 26000],\n",
       "       [0, 35, 44000],\n",
       "       [1, 37, 75000],\n",
       "       [0, 29, 47000],\n",
       "       [0, 31, 68000],\n",
       "       [1, 42, 54000],\n",
       "       [1, 30, 135000],\n",
       "       [0, 52, 114000],\n",
       "       [0, 50, 36000],\n",
       "       [1, 56, 133000],\n",
       "       [1, 29, 61000],\n",
       "       [1, 30, 89000],\n",
       "       [1, 26, 16000],\n",
       "       [1, 33, 31000],\n",
       "       [0, 41, 72000],\n",
       "       [1, 36, 33000],\n",
       "       [0, 55, 125000],\n",
       "       [0, 48, 131000],\n",
       "       [0, 41, 71000],\n",
       "       [0, 30, 62000],\n",
       "       [1, 37, 72000],\n",
       "       [0, 41, 63000],\n",
       "       [0, 58, 47000],\n",
       "       [0, 30, 116000],\n",
       "       [1, 20, 49000],\n",
       "       [1, 37, 74000],\n",
       "       [1, 41, 59000],\n",
       "       [1, 49, 89000],\n",
       "       [1, 28, 79000],\n",
       "       [0, 53, 82000],\n",
       "       [1, 40, 57000],\n",
       "       [1, 60, 34000],\n",
       "       [1, 35, 108000],\n",
       "       [1, 21, 72000],\n",
       "       [1, 38, 71000],\n",
       "       [1, 39, 106000],\n",
       "       [0, 37, 57000],\n",
       "       [0, 26, 72000],\n",
       "       [0, 35, 23000],\n",
       "       [0, 54, 108000],\n",
       "       [1, 30, 17000],\n",
       "       [1, 39, 134000],\n",
       "       [1, 29, 43000],\n",
       "       [1, 33, 43000],\n",
       "       [1, 35, 38000],\n",
       "       [1, 41, 45000],\n",
       "       [0, 41, 72000],\n",
       "       [0, 39, 134000],\n",
       "       [0, 27, 137000],\n",
       "       [0, 21, 16000],\n",
       "       [1, 26, 32000],\n",
       "       [1, 31, 66000],\n",
       "       [0, 39, 73000],\n",
       "       [1, 41, 79000],\n",
       "       [0, 47, 50000],\n",
       "       [0, 41, 30000],\n",
       "       [0, 37, 93000],\n",
       "       [0, 60, 46000],\n",
       "       [1, 25, 22000],\n",
       "       [0, 28, 37000],\n",
       "       [0, 38, 55000],\n",
       "       [0, 36, 54000],\n",
       "       [0, 20, 36000],\n",
       "       [0, 56, 104000],\n",
       "       [1, 40, 57000],\n",
       "       [0, 42, 108000],\n",
       "       [0, 20, 23000],\n",
       "       [1, 40, 65000],\n",
       "       [1, 47, 20000],\n",
       "       [0, 18, 86000],\n",
       "       [1, 35, 79000],\n",
       "       [0, 57, 33000],\n",
       "       [0, 34, 72000],\n",
       "       [0, 49, 39000],\n",
       "       [0, 27, 31000],\n",
       "       [1, 19, 70000],\n",
       "       [0, 39, 79000],\n",
       "       [1, 26, 81000],\n",
       "       [1, 25, 80000],\n",
       "       [0, 28, 85000],\n",
       "       [1, 55, 39000],\n",
       "       [0, 50, 88000],\n",
       "       [1, 49, 88000],\n",
       "       [1, 52, 150000],\n",
       "       [0, 35, 65000],\n",
       "       [1, 42, 54000],\n",
       "       [1, 34, 43000],\n",
       "       [1, 37, 52000],\n",
       "       [0, 48, 30000],\n",
       "       [1, 29, 43000],\n",
       "       [1, 36, 52000],\n",
       "       [0, 27, 54000],\n",
       "       [0, 26, 118000]], dtype=object)"
      ]
     },
     "execution_count": 13,
     "metadata": {},
     "output_type": "execute_result"
    }
   ],
   "source": [
    "x_train"
   ]
  },
  {
   "cell_type": "code",
   "execution_count": 14,
   "metadata": {},
   "outputs": [],
   "source": [
    "from sklearn.neighbors import KNeighborsClassifier\n",
    "from sklearn.preprocessing import StandardScaler\n",
    "from sklearn.pipeline import Pipeline\n",
    "pipe= Pipeline([('rescale', StandardScaler()),\n",
    "               ('classifier', KNeighborsClassifier(n_neighbors=5,metric='minkowski',p=2))])"
   ]
  },
  {
   "cell_type": "code",
   "execution_count": 15,
   "metadata": {},
   "outputs": [
    {
     "data": {
      "text/plain": [
       "Pipeline(memory=None,\n",
       "         steps=[('rescale',\n",
       "                 StandardScaler(copy=True, with_mean=True, with_std=True)),\n",
       "                ('classifier',\n",
       "                 KNeighborsClassifier(algorithm='auto', leaf_size=30,\n",
       "                                      metric='minkowski', metric_params=None,\n",
       "                                      n_jobs=None, n_neighbors=5, p=2,\n",
       "                                      weights='uniform'))],\n",
       "         verbose=False)"
      ]
     },
     "execution_count": 15,
     "metadata": {},
     "output_type": "execute_result"
    }
   ],
   "source": [
    "pipe.fit(x_train,y_train)"
   ]
  },
  {
   "cell_type": "code",
   "execution_count": 16,
   "metadata": {},
   "outputs": [
    {
     "data": {
      "text/plain": [
       "array([0, 0, 0, 0, 0, 0, 0, 1, 0, 1, 0, 0, 0, 0, 0, 1, 0, 0, 1, 0, 0, 1,\n",
       "       0, 1, 0, 1, 0, 0, 0, 0, 0, 0, 1, 0, 0, 0, 0, 0, 0, 1, 0, 0, 0, 0,\n",
       "       1, 0, 0, 1, 0, 1, 1, 0, 0, 1, 1, 1, 0, 0, 1, 0, 0, 1, 0, 1, 0, 1,\n",
       "       0, 0, 0, 0, 1, 0, 0, 1, 0, 0, 0, 0, 1, 1], dtype=int64)"
      ]
     },
     "execution_count": 16,
     "metadata": {},
     "output_type": "execute_result"
    }
   ],
   "source": [
    "y_pred=pipe.predict(x_test)\n",
    "y_pred"
   ]
  },
  {
   "cell_type": "code",
   "execution_count": 17,
   "metadata": {},
   "outputs": [
    {
     "data": {
      "text/plain": [
       "array([0, 0, 0, 0, 0, 0, 0, 1, 0, 0, 0, 0, 0, 0, 0, 0, 0, 0, 1, 0, 0, 1,\n",
       "       0, 1, 0, 1, 0, 0, 0, 0, 0, 1, 1, 0, 0, 0, 0, 0, 0, 1, 0, 0, 0, 0,\n",
       "       1, 0, 0, 1, 0, 1, 1, 0, 0, 0, 1, 1, 0, 0, 1, 0, 0, 1, 0, 1, 0, 1,\n",
       "       0, 0, 0, 0, 1, 0, 0, 1, 0, 0, 0, 0, 1, 1], dtype=int64)"
      ]
     },
     "execution_count": 17,
     "metadata": {},
     "output_type": "execute_result"
    }
   ],
   "source": [
    "y_test"
   ]
  },
  {
   "cell_type": "code",
   "execution_count": 18,
   "metadata": {},
   "outputs": [
    {
     "data": {
      "text/plain": [
       "0.95"
      ]
     },
     "execution_count": 18,
     "metadata": {},
     "output_type": "execute_result"
    }
   ],
   "source": [
    "from sklearn.metrics import accuracy_score\n",
    "accuracy_score(y_test,y_pred)"
   ]
  },
  {
   "cell_type": "code",
   "execution_count": 19,
   "metadata": {},
   "outputs": [],
   "source": [
    "from sklearn.metrics import r2_score"
   ]
  },
  {
   "cell_type": "code",
   "execution_count": 26,
   "metadata": {},
   "outputs": [],
   "source": [
    "from sklearn.metrics import confusion_matrix\n",
    "cm=confusion_matrix(y_test,y_pred)"
   ]
  },
  {
   "cell_type": "code",
   "execution_count": 27,
   "metadata": {},
   "outputs": [
    {
     "data": {
      "text/plain": [
       "array([[55,  3],\n",
       "       [ 1, 21]], dtype=int64)"
      ]
     },
     "execution_count": 27,
     "metadata": {},
     "output_type": "execute_result"
    }
   ],
   "source": [
    "cm"
   ]
  },
  {
   "cell_type": "code",
   "execution_count": 28,
   "metadata": {},
   "outputs": [
    {
     "data": {
      "text/plain": [
       "0.95141065830721"
      ]
     },
     "execution_count": 28,
     "metadata": {},
     "output_type": "execute_result"
    }
   ],
   "source": [
    "import sklearn.metrics as metrics\n",
    "fpr,tpr,threshold=metrics.roc_curve(y_test,y_pred)\n",
    "roc_auc=metrics.auc(fpr,tpr)\n",
    "roc_auc"
   ]
  },
  {
   "cell_type": "code",
   "execution_count": 29,
   "metadata": {},
   "outputs": [
    {
     "data": {
      "text/plain": [
       "<function matplotlib.pyplot.plot(*args, scalex=True, scaley=True, data=None, **kwargs)>"
      ]
     },
     "execution_count": 29,
     "metadata": {},
     "output_type": "execute_result"
    },
    {
     "data": {
      "image/png": "[encoded data removed]",
      "text/plain": [
       "<Figure size 432x288 with 1 Axes>"
      ]
     },
     "metadata": {
      "needs_background": "light"
     },
     "output_type": "display_data"
    }
   ],
   "source": [
    "plt.title('Receiver operating characteristics')\n",
    "plt.plot(fpr,tpr,'b',label='AUC=%0.2f'%roc_auc)\n",
    "plt.legend(loc='lower right')\n",
    "plt.plot"
   ]
  },
  {
   "cell_type": "code",
   "execution_count": null,
   "metadata": {},
   "outputs": [],
   "source": []
  }
 ],
 "metadata": {
  "kernelspec": {
   "display_name": "Python 3",
   "language": "python",
   "name": "python3"
  },
  "language_info": {
   "codemirror_mode": {
    "name": "ipython",
    "version": 3
   },
   "file_extension": ".py",
   "mimetype": "text/x-python",
   "name": "python",
   "nbconvert_exporter": "python",
   "pygments_lexer": "ipython3",
   "version": "3.7.6"
  }
 },
 "nbformat": 4,
 "nbformat_minor": 4
}
